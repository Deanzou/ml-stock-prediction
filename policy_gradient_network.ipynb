{
 "cells": [
  {
   "cell_type": "code",
   "execution_count": 1,
   "metadata": {},
   "outputs": [],
   "source": [
    "import pandas as pd\n",
    "import numpy as np\n",
    "import matplotlib.pyplot as plt\n",
    "import tensorflow as tf\n",
    "\n",
    "import datetime\n",
    "\n",
    "import gym\n",
    "import trading_env\n",
    "\n",
    "import os\n",
    "import agent \n",
    "from os import __file__"
   ]
  },
  {
   "cell_type": "code",
   "execution_count": 2,
   "metadata": {},
   "outputs": [
    {
     "name": "stdout",
     "output_type": "stream",
     "text": [
      "Loading historical data file\n"
     ]
    }
   ],
   "source": [
    "#env = gym.make('trading-v0')\n",
    "env_trading = gym.make('test_trading-v0')"
   ]
  },
  {
   "cell_type": "markdown",
   "metadata": {},
   "source": [
    "Holder Agent\n",
    "--------------\n",
    "To begin a holder agent will run on the month of march 2017, which will provide a reference to compare future agents. The same could also be done with a random agent. A holder agent is equivalent to set the action to 1 at each step (selling 100% of the portfolio's fiat)."
   ]
  },
  {
   "cell_type": "code",
   "execution_count": 3,
   "metadata": {},
   "outputs": [],
   "source": [
    "date = datetime.datetime(2017, 5, 1, 0, 0)\n",
    "env_trading.reset(date=date)\n",
    "rewards = []\n",
    "portfolio = []\n",
    "while True:\n",
    "    action = np.array([1]) #Holding\n",
    "    s, r, done, _ = env_trading.step(action)\n",
    "    rewards.append(r)\n",
    "    portfolio.append(env_trading.portfolio_value)\n",
    "    if done:\n",
    "        break"
   ]
  },
  {
   "cell_type": "code",
   "execution_count": 4,
   "metadata": {
    "scrolled": true
   },
   "outputs": [
    {
     "data": {
      "image/png": "[encoded data removed]",
      "text/plain": [
       "<matplotlib.figure.Figure at 0x7f3c77e21208>"
      ]
     },
     "metadata": {},
     "output_type": "display_data"
    }
   ],
   "source": [
    "plt.plot(portfolio)\n",
    "plt.show()"
   ]
  },
  {
   "cell_type": "markdown",
   "metadata": {},
   "source": [
    "Stochastic Policy Gradient\n",
    "-----------"
   ]
  },
  {
   "cell_type": "code",
   "execution_count": 5,
   "metadata": {},
   "outputs": [
    {
     "ename": "ValueError",
     "evalue": "None values not supported.",
     "output_type": "error",
     "traceback": [
      "\u001b[0;31m---------------------------------------------------------------------------\u001b[0m",
      "\u001b[0;31mValueError\u001b[0m                                Traceback (most recent call last)",
      "\u001b[0;32m/usr/lib/python3.5/os.py\u001b[0m in \u001b[0;36m<module>\u001b[0;34m()\u001b[0m\n\u001b[0;32m----> 1\u001b[0;31m \u001b[0magent\u001b[0m \u001b[0;34m=\u001b[0m \u001b[0magent\u001b[0m\u001b[0;34m.\u001b[0m\u001b[0mStochasticPolicyGradientAgent\u001b[0m\u001b[0;34m(\u001b[0m\u001b[0menv_trading\u001b[0m\u001b[0;34m)\u001b[0m \u001b[0;31m#Do not run this twice without reseting the Kernel!\u001b[0m\u001b[0;34m\u001b[0m\u001b[0m\n\u001b[0m",
      "\u001b[0;32m~/Documentos/IA/ml-stock-prediction/agent/continuous_agent.py\u001b[0m in \u001b[0;36m__init__\u001b[0;34m(self, env, learning_rate, discount_rate)\u001b[0m\n\u001b[1;32m     87\u001b[0m         \u001b[0mself\u001b[0m\u001b[0;34m.\u001b[0m\u001b[0m_loss\u001b[0m \u001b[0;34m=\u001b[0m \u001b[0;34m-\u001b[0m\u001b[0mtf\u001b[0m\u001b[0;34m.\u001b[0m\u001b[0mlog\u001b[0m\u001b[0;34m(\u001b[0m\u001b[0;36m1e-10\u001b[0m \u001b[0;34m+\u001b[0m \u001b[0mself\u001b[0m\u001b[0;34m.\u001b[0m\u001b[0m_normal_dist\u001b[0m\u001b[0;34m.\u001b[0m\u001b[0mprob\u001b[0m\u001b[0;34m(\u001b[0m\u001b[0mself\u001b[0m\u001b[0;34m.\u001b[0m\u001b[0m_taken_actions\u001b[0m\u001b[0;34m)\u001b[0m\u001b[0;34m)\u001b[0m \u001b[0;34m*\u001b[0m \u001b[0mself\u001b[0m\u001b[0;34m.\u001b[0m\u001b[0m_discounted_rewards\u001b[0m\u001b[0;34m\u001b[0m\u001b[0m\n\u001b[1;32m     88\u001b[0m \u001b[0;34m\u001b[0m\u001b[0m\n\u001b[0;32m---> 89\u001b[0;31m         \u001b[0mself\u001b[0m\u001b[0;34m.\u001b[0m\u001b[0m_train_op\u001b[0m \u001b[0;34m=\u001b[0m \u001b[0mself\u001b[0m\u001b[0;34m.\u001b[0m\u001b[0m_optimizer\u001b[0m\u001b[0;34m.\u001b[0m\u001b[0mminimize\u001b[0m\u001b[0;34m(\u001b[0m\u001b[0mself\u001b[0m\u001b[0;34m.\u001b[0m\u001b[0m_loss\u001b[0m\u001b[0;34m)\u001b[0m\u001b[0;34m\u001b[0m\u001b[0m\n\u001b[0m\u001b[1;32m     90\u001b[0m \u001b[0;34m\u001b[0m\u001b[0m\n\u001b[1;32m     91\u001b[0m         \u001b[0mself\u001b[0m\u001b[0;34m.\u001b[0m\u001b[0m_sess\u001b[0m\u001b[0;34m.\u001b[0m\u001b[0mrun\u001b[0m\u001b[0;34m(\u001b[0m\u001b[0mtf\u001b[0m\u001b[0;34m.\u001b[0m\u001b[0mglobal_variables_initializer\u001b[0m\u001b[0;34m(\u001b[0m\u001b[0;34m)\u001b[0m\u001b[0;34m)\u001b[0m\u001b[0;34m\u001b[0m\u001b[0m\n",
      "\u001b[0;32m/usr/local/lib/python3.5/dist-packages/tensorflow/python/training/optimizer.py\u001b[0m in \u001b[0;36mminimize\u001b[0;34m(self, loss, global_step, var_list, gate_gradients, aggregation_method, colocate_gradients_with_ops, name, grad_loss)\u001b[0m\n\u001b[1;32m    351\u001b[0m \u001b[0;34m\u001b[0m\u001b[0m\n\u001b[1;32m    352\u001b[0m     return self.apply_gradients(grads_and_vars, global_step=global_step,\n\u001b[0;32m--> 353\u001b[0;31m                                 name=name)\n\u001b[0m\u001b[1;32m    354\u001b[0m \u001b[0;34m\u001b[0m\u001b[0m\n\u001b[1;32m    355\u001b[0m   def compute_gradients(self, loss, var_list=None,\n",
      "\u001b[0;32m/usr/local/lib/python3.5/dist-packages/tensorflow/python/training/optimizer.py\u001b[0m in \u001b[0;36mapply_gradients\u001b[0;34m(self, grads_and_vars, global_step, name)\u001b[0m\n\u001b[1;32m    475\u001b[0m     \u001b[0mupdate_ops\u001b[0m \u001b[0;34m=\u001b[0m \u001b[0;34m[\u001b[0m\u001b[0;34m]\u001b[0m\u001b[0;34m\u001b[0m\u001b[0m\n\u001b[1;32m    476\u001b[0m     \u001b[0;32mwith\u001b[0m \u001b[0mops\u001b[0m\u001b[0;34m.\u001b[0m\u001b[0mname_scope\u001b[0m\u001b[0;34m(\u001b[0m\u001b[0mname\u001b[0m\u001b[0;34m,\u001b[0m \u001b[0mself\u001b[0m\u001b[0;34m.\u001b[0m\u001b[0m_name\u001b[0m\u001b[0;34m)\u001b[0m \u001b[0;32mas\u001b[0m \u001b[0mname\u001b[0m\u001b[0;34m:\u001b[0m\u001b[0;34m\u001b[0m\u001b[0m\n\u001b[0;32m--> 477\u001b[0;31m       \u001b[0mself\u001b[0m\u001b[0;34m.\u001b[0m\u001b[0m_prepare\u001b[0m\u001b[0;34m(\u001b[0m\u001b[0;34m)\u001b[0m\u001b[0;34m\u001b[0m\u001b[0m\n\u001b[0m\u001b[1;32m    478\u001b[0m       \u001b[0;32mfor\u001b[0m \u001b[0mgrad\u001b[0m\u001b[0;34m,\u001b[0m \u001b[0mvar\u001b[0m\u001b[0;34m,\u001b[0m \u001b[0mprocessor\u001b[0m \u001b[0;32min\u001b[0m \u001b[0mconverted_grads_and_vars\u001b[0m\u001b[0;34m:\u001b[0m\u001b[0;34m\u001b[0m\u001b[0m\n\u001b[1;32m    479\u001b[0m         \u001b[0;32mif\u001b[0m \u001b[0mgrad\u001b[0m \u001b[0;32mis\u001b[0m \u001b[0;32mNone\u001b[0m\u001b[0;34m:\u001b[0m\u001b[0;34m\u001b[0m\u001b[0m\n",
      "\u001b[0;32m/usr/local/lib/python3.5/dist-packages/tensorflow/python/training/adam.py\u001b[0m in \u001b[0;36m_prepare\u001b[0;34m(self)\u001b[0m\n\u001b[1;32m    138\u001b[0m \u001b[0;34m\u001b[0m\u001b[0m\n\u001b[1;32m    139\u001b[0m   \u001b[0;32mdef\u001b[0m \u001b[0m_prepare\u001b[0m\u001b[0;34m(\u001b[0m\u001b[0mself\u001b[0m\u001b[0;34m)\u001b[0m\u001b[0;34m:\u001b[0m\u001b[0;34m\u001b[0m\u001b[0m\n\u001b[0;32m--> 140\u001b[0;31m     \u001b[0mself\u001b[0m\u001b[0;34m.\u001b[0m\u001b[0m_lr_t\u001b[0m \u001b[0;34m=\u001b[0m \u001b[0mops\u001b[0m\u001b[0;34m.\u001b[0m\u001b[0mconvert_to_tensor\u001b[0m\u001b[0;34m(\u001b[0m\u001b[0mself\u001b[0m\u001b[0;34m.\u001b[0m\u001b[0m_lr\u001b[0m\u001b[0;34m,\u001b[0m \u001b[0mname\u001b[0m\u001b[0;34m=\u001b[0m\u001b[0;34m\"learning_rate\"\u001b[0m\u001b[0;34m)\u001b[0m\u001b[0;34m\u001b[0m\u001b[0m\n\u001b[0m\u001b[1;32m    141\u001b[0m     \u001b[0mself\u001b[0m\u001b[0;34m.\u001b[0m\u001b[0m_beta1_t\u001b[0m \u001b[0;34m=\u001b[0m \u001b[0mops\u001b[0m\u001b[0;34m.\u001b[0m\u001b[0mconvert_to_tensor\u001b[0m\u001b[0;34m(\u001b[0m\u001b[0mself\u001b[0m\u001b[0;34m.\u001b[0m\u001b[0m_beta1\u001b[0m\u001b[0;34m,\u001b[0m \u001b[0mname\u001b[0m\u001b[0;34m=\u001b[0m\u001b[0;34m\"beta1\"\u001b[0m\u001b[0;34m)\u001b[0m\u001b[0;34m\u001b[0m\u001b[0m\n\u001b[1;32m    142\u001b[0m     \u001b[0mself\u001b[0m\u001b[0;34m.\u001b[0m\u001b[0m_beta2_t\u001b[0m \u001b[0;34m=\u001b[0m \u001b[0mops\u001b[0m\u001b[0;34m.\u001b[0m\u001b[0mconvert_to_tensor\u001b[0m\u001b[0;34m(\u001b[0m\u001b[0mself\u001b[0m\u001b[0;34m.\u001b[0m\u001b[0m_beta2\u001b[0m\u001b[0;34m,\u001b[0m \u001b[0mname\u001b[0m\u001b[0;34m=\u001b[0m\u001b[0;34m\"beta2\"\u001b[0m\u001b[0;34m)\u001b[0m\u001b[0;34m\u001b[0m\u001b[0m\n",
      "\u001b[0;32m/usr/local/lib/python3.5/dist-packages/tensorflow/python/framework/ops.py\u001b[0m in \u001b[0;36mconvert_to_tensor\u001b[0;34m(value, dtype, name, preferred_dtype)\u001b[0m\n\u001b[1;32m    834\u001b[0m       \u001b[0mname\u001b[0m\u001b[0;34m=\u001b[0m\u001b[0mname\u001b[0m\u001b[0;34m,\u001b[0m\u001b[0;34m\u001b[0m\u001b[0m\n\u001b[1;32m    835\u001b[0m       \u001b[0mpreferred_dtype\u001b[0m\u001b[0;34m=\u001b[0m\u001b[0mpreferred_dtype\u001b[0m\u001b[0;34m,\u001b[0m\u001b[0;34m\u001b[0m\u001b[0m\n\u001b[0;32m--> 836\u001b[0;31m       as_ref=False)\n\u001b[0m\u001b[1;32m    837\u001b[0m \u001b[0;34m\u001b[0m\u001b[0m\n\u001b[1;32m    838\u001b[0m \u001b[0;34m\u001b[0m\u001b[0m\n",
      "\u001b[0;32m/usr/local/lib/python3.5/dist-packages/tensorflow/python/framework/ops.py\u001b[0m in \u001b[0;36minternal_convert_to_tensor\u001b[0;34m(value, dtype, name, as_ref, preferred_dtype, ctx)\u001b[0m\n\u001b[1;32m    924\u001b[0m \u001b[0;34m\u001b[0m\u001b[0m\n\u001b[1;32m    925\u001b[0m     \u001b[0;32mif\u001b[0m \u001b[0mret\u001b[0m \u001b[0;32mis\u001b[0m \u001b[0;32mNone\u001b[0m\u001b[0;34m:\u001b[0m\u001b[0;34m\u001b[0m\u001b[0m\n\u001b[0;32m--> 926\u001b[0;31m       \u001b[0mret\u001b[0m \u001b[0;34m=\u001b[0m \u001b[0mconversion_func\u001b[0m\u001b[0;34m(\u001b[0m\u001b[0mvalue\u001b[0m\u001b[0;34m,\u001b[0m \u001b[0mdtype\u001b[0m\u001b[0;34m=\u001b[0m\u001b[0mdtype\u001b[0m\u001b[0;34m,\u001b[0m \u001b[0mname\u001b[0m\u001b[0;34m=\u001b[0m\u001b[0mname\u001b[0m\u001b[0;34m,\u001b[0m \u001b[0mas_ref\u001b[0m\u001b[0;34m=\u001b[0m\u001b[0mas_ref\u001b[0m\u001b[0;34m)\u001b[0m\u001b[0;34m\u001b[0m\u001b[0m\n\u001b[0m\u001b[1;32m    927\u001b[0m \u001b[0;34m\u001b[0m\u001b[0m\n\u001b[1;32m    928\u001b[0m     \u001b[0;32mif\u001b[0m \u001b[0mret\u001b[0m \u001b[0;32mis\u001b[0m \u001b[0mNotImplemented\u001b[0m\u001b[0;34m:\u001b[0m\u001b[0;34m\u001b[0m\u001b[0m\n",
      "\u001b[0;32m/usr/local/lib/python3.5/dist-packages/tensorflow/python/framework/constant_op.py\u001b[0m in \u001b[0;36m_constant_tensor_conversion_function\u001b[0;34m(v, dtype, name, as_ref)\u001b[0m\n\u001b[1;32m    227\u001b[0m                                          as_ref=False):\n\u001b[1;32m    228\u001b[0m   \u001b[0m_\u001b[0m \u001b[0;34m=\u001b[0m \u001b[0mas_ref\u001b[0m\u001b[0;34m\u001b[0m\u001b[0m\n\u001b[0;32m--> 229\u001b[0;31m   \u001b[0;32mreturn\u001b[0m \u001b[0mconstant\u001b[0m\u001b[0;34m(\u001b[0m\u001b[0mv\u001b[0m\u001b[0;34m,\u001b[0m \u001b[0mdtype\u001b[0m\u001b[0;34m=\u001b[0m\u001b[0mdtype\u001b[0m\u001b[0;34m,\u001b[0m \u001b[0mname\u001b[0m\u001b[0;34m=\u001b[0m\u001b[0mname\u001b[0m\u001b[0;34m)\u001b[0m\u001b[0;34m\u001b[0m\u001b[0m\n\u001b[0m\u001b[1;32m    230\u001b[0m \u001b[0;34m\u001b[0m\u001b[0m\n\u001b[1;32m    231\u001b[0m \u001b[0;34m\u001b[0m\u001b[0m\n",
      "\u001b[0;32m/usr/local/lib/python3.5/dist-packages/tensorflow/python/framework/constant_op.py\u001b[0m in \u001b[0;36mconstant\u001b[0;34m(value, dtype, shape, name, verify_shape)\u001b[0m\n\u001b[1;32m    206\u001b[0m   tensor_value.tensor.CopyFrom(\n\u001b[1;32m    207\u001b[0m       tensor_util.make_tensor_proto(\n\u001b[0;32m--> 208\u001b[0;31m           value, dtype=dtype, shape=shape, verify_shape=verify_shape))\n\u001b[0m\u001b[1;32m    209\u001b[0m   \u001b[0mdtype_value\u001b[0m \u001b[0;34m=\u001b[0m \u001b[0mattr_value_pb2\u001b[0m\u001b[0;34m.\u001b[0m\u001b[0mAttrValue\u001b[0m\u001b[0;34m(\u001b[0m\u001b[0mtype\u001b[0m\u001b[0;34m=\u001b[0m\u001b[0mtensor_value\u001b[0m\u001b[0;34m.\u001b[0m\u001b[0mtensor\u001b[0m\u001b[0;34m.\u001b[0m\u001b[0mdtype\u001b[0m\u001b[0;34m)\u001b[0m\u001b[0;34m\u001b[0m\u001b[0m\n\u001b[1;32m    210\u001b[0m   const_tensor = g.create_op(\n",
      "\u001b[0;32m/usr/local/lib/python3.5/dist-packages/tensorflow/python/framework/tensor_util.py\u001b[0m in \u001b[0;36mmake_tensor_proto\u001b[0;34m(values, dtype, shape, verify_shape)\u001b[0m\n\u001b[1;32m    369\u001b[0m   \u001b[0;32melse\u001b[0m\u001b[0;34m:\u001b[0m\u001b[0;34m\u001b[0m\u001b[0m\n\u001b[1;32m    370\u001b[0m     \u001b[0;32mif\u001b[0m \u001b[0mvalues\u001b[0m \u001b[0;32mis\u001b[0m \u001b[0;32mNone\u001b[0m\u001b[0;34m:\u001b[0m\u001b[0;34m\u001b[0m\u001b[0m\n\u001b[0;32m--> 371\u001b[0;31m       \u001b[0;32mraise\u001b[0m \u001b[0mValueError\u001b[0m\u001b[0;34m(\u001b[0m\u001b[0;34m\"None values not supported.\"\u001b[0m\u001b[0;34m)\u001b[0m\u001b[0;34m\u001b[0m\u001b[0m\n\u001b[0m\u001b[1;32m    372\u001b[0m     \u001b[0;31m# if dtype is provided, forces numpy array to be the type\u001b[0m\u001b[0;34m\u001b[0m\u001b[0;34m\u001b[0m\u001b[0m\n\u001b[1;32m    373\u001b[0m     \u001b[0;31m# provided if possible.\u001b[0m\u001b[0;34m\u001b[0m\u001b[0;34m\u001b[0m\u001b[0m\n",
      "\u001b[0;31mValueError\u001b[0m: None values not supported."
     ]
    }
   ],
   "source": [
    "agent = agent.StochasticPolicyGradientAgent(env_trading) #Do not run this twice without reseting the Kernel!"
   ]
  },
  {
   "cell_type": "code",
   "execution_count": 6,
   "metadata": {
    "scrolled": true
   },
   "outputs": [
    {
     "name": "stdout",
     "output_type": "stream",
     "text": [
      "Sigma: 0.9927880764007568, Mu: 0.0997961238026619, Action: -0.7453908920288086\n",
      "Sigma: 0.8786351680755615, Mu: -0.315367192029953, Action: 0.3874458968639374\n",
      "Sigma: 0.9388937950134277, Mu: -0.02555842325091362, Action: -1.0\n",
      "Sigma: 0.9849746227264404, Mu: 0.4854031801223755, Action: 0.7801811099052429\n",
      "Sigma: 1.0552847385406494, Mu: 0.5878623127937317, Action: -1.0\n",
      "Sigma: 1.1105363368988037, Mu: 0.7992609739303589, Action: -1.0\n",
      "Sigma: 1.1589300632476807, Mu: 0.940344512462616, Action: 0.5855199098587036\n",
      "Sigma: 1.131288766860962, Mu: 0.9578220844268799, Action: 0.9010412693023682\n",
      "Sigma: 1.080779790878296, Mu: 0.9963122606277466, Action: 1.0\n",
      "Sigma: 1.0116254091262817, Mu: 0.9965667128562927, Action: 0.8182145953178406\n",
      "Sigma: 0.935096800327301, Mu: 0.9967809915542603, Action: 0.2357960343360901\n",
      "Sigma: 0.8445451259613037, Mu: 0.9970828294754028, Action: 1.0\n",
      "Sigma: 0.7670779824256897, Mu: 0.9972974061965942, Action: 1.0\n",
      "Sigma: 0.6994632482528687, Mu: 0.9983184337615967, Action: 0.45103979110717773\n",
      "Sigma: 0.6378844976425171, Mu: 0.998374879360199, Action: 0.5263825058937073\n",
      "Sigma: 0.5847293734550476, Mu: 0.998468816280365, Action: 1.0\n",
      "Sigma: 0.5295594930648804, Mu: 0.9990689754486084, Action: 1.0\n",
      "Sigma: 0.4815877676010132, Mu: 0.9993598461151123, Action: 0.9965512156486511\n",
      "Sigma: 0.42033249139785767, Mu: 0.9993734359741211, Action: 0.6900192499160767\n",
      "Sigma: 0.3843039274215698, Mu: 0.9993817210197449, Action: 1.0\n",
      "Sigma: 0.33868837356567383, Mu: 0.9993898272514343, Action: 1.0\n",
      "Sigma: 0.3045719265937805, Mu: 0.999473512172699, Action: 0.8039969205856323\n",
      "Sigma: 0.26933327317237854, Mu: 0.999476432800293, Action: 1.0\n",
      "Sigma: 0.24441930651664734, Mu: 0.9994797706604004, Action: 1.0\n",
      "Sigma: 0.2215198427438736, Mu: 0.9995360970497131, Action: 1.0\n",
      "Sigma: 0.19879642128944397, Mu: 0.9996441006660461, Action: 1.0\n",
      "Sigma: 0.18021993339061737, Mu: 0.9996473789215088, Action: 1.0\n",
      "Sigma: 0.16517463326454163, Mu: 0.9996508359909058, Action: 1.0\n",
      "Sigma: 0.15063518285751343, Mu: 0.9996547698974609, Action: 0.8535680174827576\n",
      "Sigma: 0.13776235282421112, Mu: 0.9996530413627625, Action: 0.8381865620613098\n",
      "Sigma: 0.12750257551670074, Mu: 0.9996442794799805, Action: 1.0\n",
      "Sigma: 0.11868031322956085, Mu: 0.9994799494743347, Action: 0.8116511106491089\n",
      "Sigma: 0.11218824982643127, Mu: 0.999374270439148, Action: 0.9870548844337463\n",
      "Sigma: 0.10502434521913528, Mu: 0.9993497133255005, Action: 0.875525951385498\n",
      "Sigma: 0.09848851710557938, Mu: 0.9985235333442688, Action: 1.0\n",
      "Sigma: 0.09331732243299484, Mu: 0.9984824657440186, Action: 1.0\n",
      "Sigma: 0.0885620266199112, Mu: 0.9985016584396362, Action: 1.0\n",
      "Sigma: 0.08357308059930801, Mu: 0.9990415573120117, Action: 1.0\n",
      "Sigma: 0.0790136530995369, Mu: 0.999363899230957, Action: 1.0\n",
      "Sigma: 0.07450922578573227, Mu: 0.9996383190155029, Action: 0.9615277647972107\n",
      "Sigma: 0.07038921862840652, Mu: 0.9996576309204102, Action: 0.9877758026123047\n",
      "Sigma: 0.06634155660867691, Mu: 0.9997565150260925, Action: 1.0\n",
      "Sigma: 0.062481291592121124, Mu: 0.9997683167457581, Action: 0.9698532819747925\n",
      "Sigma: 0.058965396136045456, Mu: 0.9998226165771484, Action: 1.0\n",
      "Sigma: 0.055580854415893555, Mu: 0.9999039173126221, Action: 0.9423933625221252\n",
      "Sigma: 0.052654605358839035, Mu: 0.9999062418937683, Action: 1.0\n",
      "Sigma: 0.049611348658800125, Mu: 0.9999088644981384, Action: 0.9836155772209167\n",
      "Sigma: 0.04693376272916794, Mu: 0.9999239444732666, Action: 0.996392548084259\n",
      "Sigma: 0.04425246641039848, Mu: 0.9999252557754517, Action: 1.0\n",
      "Sigma: 0.041833870112895966, Mu: 0.9999505877494812, Action: 0.9966377019882202\n",
      "Sigma: 0.03954176604747772, Mu: 0.9999513030052185, Action: 1.0\n",
      "Sigma: 0.03737650066614151, Mu: 0.9999521970748901, Action: 0.9645466804504395\n",
      "Sigma: 0.03533517196774483, Mu: 0.9999522566795349, Action: 0.947901725769043\n",
      "Sigma: 0.03388555720448494, Mu: 0.9999517202377319, Action: 0.9761368632316589\n",
      "Sigma: 0.03256824612617493, Mu: 0.9999510645866394, Action: 1.0\n",
      "Sigma: 0.031252145767211914, Mu: 0.9999501705169678, Action: 1.0\n",
      "Sigma: 0.0299506988376379, Mu: 0.9999496936798096, Action: 1.0\n",
      "Sigma: 0.028674336150288582, Mu: 0.9999492764472961, Action: 0.9673168659210205\n",
      "Sigma: 0.027580054476857185, Mu: 0.9999479055404663, Action: 0.9571985602378845\n",
      "Sigma: 0.026797495782375336, Mu: 0.9999186396598816, Action: 1.0\n",
      "Sigma: 0.025860939174890518, Mu: 0.9999001026153564, Action: 1.0\n",
      "Sigma: 0.02502318099141121, Mu: 0.9998353123664856, Action: 0.9621648192405701\n",
      "Sigma: 0.02437451481819153, Mu: 0.9997571706771851, Action: 1.0\n",
      "Sigma: 0.023695150390267372, Mu: 0.9997470378875732, Action: 0.9610077142715454\n",
      "Sigma: 0.02316311001777649, Mu: 0.9996339678764343, Action: 0.9763559103012085\n",
      "Sigma: 0.02259439043700695, Mu: 0.9993363618850708, Action: 1.0\n",
      "Sigma: 0.022119713947176933, Mu: 0.999363124370575, Action: 0.9770161509513855\n",
      "Sigma: 0.021592898294329643, Mu: 0.999610185623169, Action: 0.999102771282196\n",
      "Sigma: 0.021101195365190506, Mu: 0.9997252821922302, Action: 0.991712749004364\n",
      "Sigma: 0.020573031157255173, Mu: 0.9997431039810181, Action: 1.0\n",
      "Sigma: 0.020031319931149483, Mu: 0.9998844861984253, Action: 1.0\n",
      "Sigma: 0.019457167014479637, Mu: 0.9999433159828186, Action: 1.0\n",
      "Sigma: 0.01888308674097061, Mu: 0.9999474883079529, Action: 0.9949231743812561\n",
      "Sigma: 0.018297983333468437, Mu: 0.9999523162841797, Action: 1.0\n",
      "Sigma: 0.017708489671349525, Mu: 0.9999619722366333, Action: 0.9610660672187805\n",
      "Sigma: 0.017496375367045403, Mu: 0.9999635219573975, Action: 1.0\n",
      "Sigma: 0.01723598875105381, Mu: 0.9999647736549377, Action: 0.988385021686554\n",
      "Sigma: 0.016960443928837776, Mu: 0.9999669194221497, Action: 1.0\n",
      "Sigma: 0.016648301854729652, Mu: 0.9999678134918213, Action: 1.0\n",
      "Sigma: 0.016296228393912315, Mu: 0.9999685883522034, Action: 1.0\n",
      "Sigma: 0.015901625156402588, Mu: 0.9999690651893616, Action: 0.9831862449645996\n",
      "Sigma: 0.015583667904138565, Mu: 0.9999697208404541, Action: 0.9592680931091309\n",
      "Sigma: 0.015633413568139076, Mu: 0.9999698996543884, Action: 0.9946532845497131\n",
      "Sigma: 0.015630723908543587, Mu: 0.9999700784683228, Action: 1.0\n",
      "Sigma: 0.015575946308672428, Mu: 0.9999702572822571, Action: 1.0\n",
      "Sigma: 0.015474951826035976, Mu: 0.9999704957008362, Action: 1.0\n",
      "Sigma: 0.015333500690758228, Mu: 0.9999706745147705, Action: 0.9831780195236206\n",
      "Sigma: 0.015213396400213242, Mu: 0.9999707341194153, Action: 1.0\n",
      "Sigma: 0.015056110918521881, Mu: 0.9999707341194153, Action: 0.9895150661468506\n",
      "Sigma: 0.014888180419802666, Mu: 0.9999707937240601, Action: 0.9914268255233765\n",
      "Sigma: 0.01470435131341219, Mu: 0.9999708533287048, Action: 1.0\n",
      "Sigma: 0.01449342630803585, Mu: 0.9999716877937317, Action: 1.0\n",
      "Sigma: 0.014259964227676392, Mu: 0.999976634979248, Action: 1.0\n",
      "Sigma: 0.014007619582116604, Mu: 0.9999767541885376, Action: 0.9917539954185486\n",
      "Sigma: 0.013748949393630028, Mu: 0.9999768137931824, Action: 0.9845856428146362\n",
      "Sigma: 0.013532007113099098, Mu: 0.9999766945838928, Action: 0.9783161282539368\n",
      "Sigma: 0.013402820564806461, Mu: 0.9999715685844421, Action: 0.9940341114997864\n",
      "Sigma: 0.013252616859972477, Mu: 0.9999698996543884, Action: 1.0\n",
      "Sigma: 0.013077744282782078, Mu: 0.9999697208404541, Action: 0.9837560057640076\n",
      "Sigma: 0.012940079905092716, Mu: 0.9999693036079407, Action: 1.0\n"
     ]
    }
   ],
   "source": [
    "#As a sanity check I try to overfit over the same step\n",
    "#A profitable action in this case would be to buy (action=1)\n",
    "\n",
    "date = datetime.datetime(2017, 5, 1, 0, 0)\n",
    "rewards = []\n",
    "losses = []\n",
    "env_trading.start_fiat = 100\n",
    "env_trading.start_crypto = 1\n",
    "\n",
    "for i in range(100):\n",
    "    start = env_trading.reset(date=date)\n",
    "    start = np.reshape(start,200)\n",
    "    action = agent.act([start])\n",
    "    s, r, done, _ = env_trading.step([action])\n",
    "    s = np.reshape(s,200)\n",
    "    agent.store_step(action, s, r)\n",
    "    rewards.append(r)\n",
    "    agent.train()\n"
   ]
  },
  {
   "cell_type": "code",
   "execution_count": 7,
   "metadata": {},
   "outputs": [
    {
     "data": {
      "image/png": "[encoded data removed]",
      "text/plain": [
       "<matplotlib.figure.Figure at 0x7fa186a6d898>"
      ]
     },
     "metadata": {},
     "output_type": "display_data"
    }
   ],
   "source": [
    "plt.plot(rewards)\n",
    "plt.show()"
   ]
  },
  {
   "cell_type": "markdown",
   "metadata": {},
   "source": [
    "# Starting the real training"
   ]
  },
  {
   "cell_type": "code",
   "execution_count": null,
   "metadata": {},
   "outputs": [],
   "source": [
    "#To debug\n",
    "NUM_EP = 1000\n",
    "date = datetime.datetime(2017, 5, 1, 0, 0)\n",
    "for i in range(NUM_EP):\n",
    "    state = env_trading.reset(date=date)\n",
    "    total_reward = 0\n",
    "    rewards_plot = []\n",
    "    while(True):\n",
    "        action = agent.act([state])\n",
    "        state, reward, done, _ = env_trading.step([action])\n",
    "        agent.store_step([action], state, reward)\n",
    "        total_reward += reward\n",
    "        if done:\n",
    "            rewards_plot.append(total_reward)\n",
    "            print(\"Episode: {}, Total reward: {}\".format(i,total_reward))\n",
    "            break\n",
    "    agent.train()\n",
    "\n",
    "plt.plot(rewards_plot)\n",
    "plt.show()"
   ]
  },
  {
   "cell_type": "code",
   "execution_count": null,
   "metadata": {},
   "outputs": [],
   "source": []
  }
 ],
 "metadata": {
  "kernelspec": {
   "display_name": "Python 3",
   "language": "python",
   "name": "python3"
  },
  "language_info": {
   "codemirror_mode": {
    "name": "ipython",
    "version": 3
   },
   "file_extension": ".py",
   "mimetype": "text/x-python",
   "name": "python",
   "nbconvert_exporter": "python",
   "pygments_lexer": "ipython3",
   "version": "3.5.2"
  }
 },
 "nbformat": 4,
 "nbformat_minor": 2
}
