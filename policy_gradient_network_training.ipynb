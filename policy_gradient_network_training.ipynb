{
 "cells": [
  {
   "cell_type": "code",
   "execution_count": 1,
   "metadata": {},
   "outputs": [],
   "source": [
    "import pandas as pd\n",
    "import numpy as np\n",
    "import matplotlib.pyplot as plt\n",
    "import tensorflow as tf\n",
    "\n",
    "import datetime\n",
    "\n",
    "import gym\n",
    "import trading_env\n",
    "\n",
    "import os\n",
    "import agent \n",
    "from os import __file__"
   ]
  },
  {
   "cell_type": "code",
   "execution_count": 2,
   "metadata": {},
   "outputs": [
    {
     "name": "stdout",
     "output_type": "stream",
     "text": [
      "Loading historical data file\n"
     ]
    },
    {
     "data": {
      "image/png": "[encoded data removed]",
      "text/plain": [
       "<matplotlib.figure.Figure at 0x7f938a4a62e8>"
      ]
     },
     "metadata": {},
     "output_type": "display_data"
    }
   ],
   "source": [
    "env_trading = gym.make('test_trading-v0')\n",
    "NUM_EP = 700\n",
    "date = datetime.datetime(2017, 3, 1, 0, 0)\n",
    "data = env_trading.historical_data[\"close\"]\n",
    "env_trading.reset(date=date)\n",
    "plt.plot(data[env_trading.start_index:env_trading.start_index + int(env_trading.episode_steps) \n",
    "              if env_trading.start_index + int(env_trading.episode_steps) < data.shape[0]\n",
    "             else data.shape[0]])\n",
    "\n",
    "plt.show()"
   ]
  },
  {
   "cell_type": "markdown",
   "metadata": {},
   "source": [
    "## The Goal\n",
    "Have a better cumulated reward and final portfolio value than the three following agents:\n",
    "- The \"holder\" (action = 1)\n",
    "- The \"All out\" (action = -1)\n",
    "- The \"I have no idea what I am doing\" (random action)\n"
   ]
  },
  {
   "cell_type": "markdown",
   "metadata": {},
   "source": [
    "# Holder"
   ]
  },
  {
   "cell_type": "code",
   "execution_count": 3,
   "metadata": {},
   "outputs": [],
   "source": [
    "state = env_trading.reset(date=date)\n",
    "total_reward = 0\n",
    "\n",
    "while(True):\n",
    "    action = 1.0 #Holder agent\n",
    "    state, reward, done, _ = env_trading.step(action)\n",
    "    total_reward += reward\n",
    "    if done:\n",
    "        break\n",
    "holder_reward = np.full(NUM_EP, total_reward)"
   ]
  },
  {
   "cell_type": "markdown",
   "metadata": {},
   "source": [
    "# Random"
   ]
  },
  {
   "cell_type": "code",
   "execution_count": 4,
   "metadata": {},
   "outputs": [],
   "source": [
    "state = env_trading.reset(date=date)\n",
    "total_reward = 0\n",
    "\n",
    "while(True):\n",
    "    action = env_trading.action_space.sample()\n",
    "    state, reward, done, _ = env_trading.step(action)\n",
    "    total_reward += reward\n",
    "    if done:  \n",
    "        break\n",
    "random_reward = np.full(NUM_EP, total_reward)"
   ]
  },
  {
   "cell_type": "markdown",
   "metadata": {},
   "source": [
    "# All out"
   ]
  },
  {
   "cell_type": "code",
   "execution_count": 5,
   "metadata": {},
   "outputs": [],
   "source": [
    "out_reward = np.full(NUM_EP, 0)"
   ]
  },
  {
   "cell_type": "markdown",
   "metadata": {},
   "source": [
    "# The Agent"
   ]
  },
  {
   "cell_type": "code",
   "execution_count": 6,
   "metadata": {},
   "outputs": [],
   "source": [
    "agent = agent.StochasticPolicyGradientAgent(env_trading, learning_rate = 1e-3, discount_rate = 1.0)"
   ]
  },
  {
   "cell_type": "code",
   "execution_count": 7,
   "metadata": {},
   "outputs": [
    {
     "name": "stdout",
     "output_type": "stream",
     "text": [
      "Episode: 0, Total reward: 0.6196722019835414\n",
      "Episode: 1, Total reward: 1.4114724454633243\n",
      "Episode: 2, Total reward: 1.359373274429234\n",
      "Episode: 3, Total reward: 1.3717787779595423\n",
      "Episode: 4, Total reward: 1.3579106265162677\n",
      "Episode: 5, Total reward: 1.374122139187762\n",
      "Episode: 6, Total reward: 1.3879728875942112\n",
      "Episode: 7, Total reward: 1.3946637816002714\n",
      "Episode: 8, Total reward: 1.3725027411238035\n",
      "Episode: 9, Total reward: 1.36013169681678\n",
      "Episode: 10, Total reward: 1.3543116774180104\n",
      "Episode: 11, Total reward: 1.3533075605619465\n",
      "Episode: 12, Total reward: 1.356930798715903\n",
      "Episode: 13, Total reward: 1.3387032168266115\n",
      "Episode: 14, Total reward: 1.3170801330225403\n",
      "Episode: 15, Total reward: 1.3694594664390454\n",
      "Episode: 16, Total reward: 1.3798405820386572\n",
      "Episode: 17, Total reward: 1.3173785677852912\n",
      "Episode: 18, Total reward: 1.3364555249998968\n",
      "Episode: 19, Total reward: 1.3961095869036846\n",
      "Episode: 20, Total reward: 1.3453855108939996\n",
      "Episode: 21, Total reward: 1.3553309776590217\n",
      "Episode: 22, Total reward: 1.3884591934607138\n",
      "Episode: 23, Total reward: 1.3835399554028334\n",
      "Episode: 24, Total reward: 1.324888485541743\n",
      "Episode: 25, Total reward: 1.3609123906533\n",
      "Episode: 26, Total reward: 1.38808432341843\n",
      "Episode: 27, Total reward: 1.3559566569080639\n",
      "Episode: 28, Total reward: 1.3616460909502004\n",
      "Episode: 29, Total reward: 1.378411711805188\n",
      "Episode: 30, Total reward: 1.4283036821017572\n",
      "Episode: 31, Total reward: 1.3876885896940445\n",
      "Episode: 32, Total reward: 1.3629905952438204\n",
      "Episode: 33, Total reward: 1.3111047338571196\n",
      "Episode: 34, Total reward: 1.3645912221693606\n",
      "Episode: 35, Total reward: 1.3349769774108062\n",
      "Episode: 36, Total reward: 1.371171802341333\n",
      "Episode: 37, Total reward: 1.383030399825088\n",
      "Episode: 38, Total reward: 1.3580420068280339\n",
      "Episode: 39, Total reward: 1.3545891904035725\n",
      "Episode: 40, Total reward: 1.3902350480594676\n",
      "Episode: 41, Total reward: 1.3855795426764481\n",
      "Episode: 42, Total reward: 1.3734721326431332\n",
      "Episode: 43, Total reward: 1.374083378663296\n",
      "Episode: 44, Total reward: 1.3372338907247883\n",
      "Episode: 45, Total reward: 1.3414724503536943\n",
      "Episode: 46, Total reward: 1.3335157410888947\n",
      "Episode: 47, Total reward: 1.3625984185454054\n",
      "Episode: 48, Total reward: 1.371634134717557\n",
      "Episode: 49, Total reward: 1.3792634870625124\n",
      "Episode: 50, Total reward: 1.3553480732631062\n",
      "Episode: 51, Total reward: 1.370340960823537\n",
      "Episode: 52, Total reward: 1.3932376313000034\n",
      "Episode: 53, Total reward: 1.4043172323212565\n",
      "Episode: 54, Total reward: 1.3476349810611647\n",
      "Episode: 55, Total reward: 1.3757946096955214\n",
      "Episode: 56, Total reward: 1.3721816095972998\n",
      "Episode: 57, Total reward: 1.3220784108779389\n",
      "Episode: 58, Total reward: 1.3386261741068681\n",
      "Episode: 59, Total reward: 1.338087513435529\n",
      "Episode: 60, Total reward: 1.3870518470781097\n",
      "Episode: 61, Total reward: 1.3539494005171357\n",
      "Episode: 62, Total reward: 1.3997748463701682\n",
      "Episode: 63, Total reward: 1.350593913921848\n",
      "Episode: 64, Total reward: 1.3496451279270043\n",
      "Episode: 65, Total reward: 1.346396763224019\n",
      "Episode: 66, Total reward: 1.3699287448236526\n",
      "Episode: 67, Total reward: 1.362238208731998\n",
      "Episode: 68, Total reward: 1.361211435415781\n",
      "Episode: 69, Total reward: 1.3556923376854673\n",
      "Episode: 70, Total reward: 1.3338428920285317\n",
      "Episode: 71, Total reward: 1.3643325729914295\n",
      "Episode: 72, Total reward: 1.392494488937491\n",
      "Episode: 73, Total reward: 1.4007529463120998\n",
      "Episode: 74, Total reward: 1.3855128699101384\n",
      "Episode: 75, Total reward: 1.370495946707994\n",
      "Episode: 76, Total reward: 1.2964117588876616\n",
      "Episode: 77, Total reward: 1.3485936647878964\n",
      "Episode: 78, Total reward: 1.366075327176177\n",
      "Episode: 79, Total reward: 1.3763021295605542\n",
      "Episode: 80, Total reward: 1.3720573354640535\n",
      "Episode: 81, Total reward: 1.3650140819614123\n",
      "Episode: 82, Total reward: 1.3597944403195619\n",
      "Episode: 83, Total reward: 1.3472027981421277\n",
      "Episode: 84, Total reward: 1.317326026363421\n",
      "Episode: 85, Total reward: 1.3762199133224875\n",
      "Episode: 86, Total reward: 1.3629327698930553\n",
      "Episode: 87, Total reward: 1.3647695293304931\n",
      "Episode: 88, Total reward: 1.3515469796929798\n",
      "Episode: 89, Total reward: 1.3623454424421118\n",
      "Episode: 90, Total reward: 1.4480555583405699\n",
      "Episode: 91, Total reward: 1.3547187095430064\n",
      "Episode: 92, Total reward: 1.3716379532595204\n",
      "Episode: 93, Total reward: 1.3477014935505722\n",
      "Episode: 94, Total reward: 1.3942749566803294\n",
      "Episode: 95, Total reward: 1.3445113327723954\n",
      "Episode: 96, Total reward: 1.3483724220756665\n",
      "Episode: 97, Total reward: 1.3737259310808048\n",
      "Episode: 98, Total reward: 1.3505459703453064\n",
      "Episode: 99, Total reward: 1.3764539223244054\n",
      "Episode: 100, Total reward: 1.3192314746147613\n",
      "Episode: 101, Total reward: 1.3760594002194928\n",
      "Episode: 102, Total reward: 1.368706566311813\n",
      "Episode: 103, Total reward: 1.3895701258823232\n",
      "Episode: 104, Total reward: 1.4075505747382357\n",
      "Episode: 105, Total reward: 1.3787675007794415\n",
      "Episode: 106, Total reward: 1.3810640711910867\n",
      "Episode: 107, Total reward: 1.298906785085385\n",
      "Episode: 108, Total reward: 1.3716093676011565\n",
      "Episode: 109, Total reward: 1.3642266442080588\n",
      "Episode: 110, Total reward: 1.4023355747771082\n",
      "Episode: 111, Total reward: 1.383506547490342\n",
      "Episode: 112, Total reward: 1.3744323786887942\n",
      "Episode: 113, Total reward: 1.3649240202793387\n",
      "Episode: 114, Total reward: 1.3798121756077122\n",
      "Episode: 115, Total reward: 1.4301071068922644\n",
      "Episode: 116, Total reward: 1.3699470499686375\n",
      "Episode: 117, Total reward: 1.3920342333852949\n",
      "Episode: 118, Total reward: 1.3823595360959153\n",
      "Episode: 119, Total reward: 1.3800463838505268\n",
      "Episode: 120, Total reward: 1.3938138707196486\n",
      "Episode: 121, Total reward: 1.3541730712167315\n",
      "Episode: 122, Total reward: 1.3588074412235795\n",
      "Episode: 123, Total reward: 1.391619285364766\n",
      "Episode: 124, Total reward: 1.3808219365901164\n",
      "Episode: 125, Total reward: 1.338107614367489\n",
      "Episode: 126, Total reward: 1.3783742430047474\n",
      "Episode: 127, Total reward: 1.3708473834901056\n",
      "Episode: 128, Total reward: 1.368546968152967\n",
      "Episode: 129, Total reward: 1.3598049362261289\n",
      "Episode: 130, Total reward: 1.4601390163690218\n",
      "Episode: 131, Total reward: 1.3413097111414962\n",
      "Episode: 132, Total reward: 1.3681579460377726\n",
      "Episode: 133, Total reward: 1.3700835240442868\n",
      "Episode: 134, Total reward: 1.3927276208220623\n",
      "Episode: 135, Total reward: 1.3578984295524532\n",
      "Episode: 136, Total reward: 1.3410593513330227\n",
      "Episode: 137, Total reward: 1.3795130388118242\n",
      "Episode: 138, Total reward: 1.380375139982665\n",
      "Episode: 139, Total reward: 1.3285904815796798\n",
      "Episode: 140, Total reward: 1.3788144678257896\n",
      "Episode: 141, Total reward: 1.3666847926063728\n",
      "Episode: 142, Total reward: 1.372447908839608\n",
      "Episode: 143, Total reward: 1.3151760447399805\n",
      "Episode: 144, Total reward: 1.3558275702943214\n",
      "Episode: 145, Total reward: 1.3955121982591072\n",
      "Episode: 146, Total reward: 1.4084719676286515\n",
      "Episode: 147, Total reward: 1.4027241650324729\n",
      "Episode: 148, Total reward: 1.3829626626608973\n",
      "Episode: 149, Total reward: 1.352692074216757\n",
      "Episode: 150, Total reward: 1.4132651975286001\n",
      "Episode: 151, Total reward: 1.3898943744217565\n",
      "Episode: 152, Total reward: 1.3945752092490769\n",
      "Episode: 153, Total reward: 1.3841903165721732\n",
      "Episode: 154, Total reward: 1.3921054088456795\n",
      "Episode: 155, Total reward: 1.385726239643212\n",
      "Episode: 156, Total reward: 1.449121464979384\n",
      "Episode: 157, Total reward: 1.3956882500098775\n",
      "Episode: 158, Total reward: 1.3694135541570083\n",
      "Episode: 159, Total reward: 1.3037722154685996\n",
      "Episode: 160, Total reward: 1.3459645468260681\n",
      "Episode: 161, Total reward: 1.3896669109508646\n",
      "Episode: 162, Total reward: 1.3595568325390728\n",
      "Episode: 163, Total reward: 1.3852952353564192\n",
      "Episode: 164, Total reward: 1.386255258266227\n",
      "Episode: 165, Total reward: 1.3747362564140198\n",
      "Episode: 166, Total reward: 1.4031925467889295\n",
      "Episode: 167, Total reward: 1.3882594681202358\n",
      "Episode: 168, Total reward: 1.3648462819374045\n",
      "Episode: 169, Total reward: 1.400201762506536\n",
      "Episode: 170, Total reward: 1.3798475807943171\n",
      "Episode: 171, Total reward: 1.3738972196198678\n",
      "Episode: 172, Total reward: 1.3946487747428968\n",
      "Episode: 173, Total reward: 1.3717598639653485\n",
      "Episode: 174, Total reward: 1.3647010855994417\n",
      "Episode: 175, Total reward: 1.4016767751073966\n",
      "Episode: 176, Total reward: 1.4039972555377684\n",
      "Episode: 177, Total reward: 1.4042694866681673\n"
     ]
    },
    {
     "name": "stdout",
     "output_type": "stream",
     "text": [
      "Episode: 178, Total reward: 1.34950045861597\n",
      "Episode: 179, Total reward: 1.3767948610668248\n",
      "Episode: 180, Total reward: 1.4004813726079612\n",
      "Episode: 181, Total reward: 1.3693771330142488\n",
      "Episode: 182, Total reward: 1.2992190607071663\n",
      "Episode: 183, Total reward: 1.361743206746457\n",
      "Episode: 184, Total reward: 1.353965726902508\n",
      "Episode: 185, Total reward: 1.3985739403556519\n",
      "Episode: 186, Total reward: 1.347746428630688\n",
      "Episode: 187, Total reward: 1.3835200966061698\n",
      "Episode: 188, Total reward: 1.3688528841950618\n",
      "Episode: 189, Total reward: 1.3792023177730546\n",
      "Episode: 190, Total reward: 1.3738456686157854\n",
      "Episode: 191, Total reward: 1.3919716319954023\n",
      "Episode: 192, Total reward: 1.334055432298308\n",
      "Episode: 193, Total reward: 1.3583340649694515\n",
      "Episode: 194, Total reward: 1.351193518282409\n",
      "Episode: 195, Total reward: 1.3575722750404167\n",
      "Episode: 196, Total reward: 1.3770277268885223\n",
      "Episode: 197, Total reward: 1.367088318879056\n",
      "Episode: 198, Total reward: 1.3836809533958399\n",
      "Episode: 199, Total reward: 1.3559942328023253\n",
      "Episode: 200, Total reward: 1.3782789343243176\n",
      "Episode: 201, Total reward: 1.381626202993678\n",
      "Episode: 202, Total reward: 1.3423854222064067\n",
      "Episode: 203, Total reward: 1.3631023880153137\n",
      "Episode: 204, Total reward: 1.3090511044856967\n",
      "Episode: 205, Total reward: 1.4020576794206068\n",
      "Episode: 206, Total reward: 1.318769238620659\n",
      "Episode: 207, Total reward: 1.3707111833698065\n",
      "Episode: 208, Total reward: 1.3692409808439958\n",
      "Episode: 209, Total reward: 1.3512363818318978\n",
      "Episode: 210, Total reward: 1.3971729134962554\n",
      "Episode: 211, Total reward: 1.3498505382680621\n",
      "Episode: 212, Total reward: 1.394901462485223\n",
      "Episode: 213, Total reward: 1.382328482244573\n",
      "Episode: 214, Total reward: 1.381260293541535\n",
      "Episode: 215, Total reward: 1.3617032071160327\n",
      "Episode: 216, Total reward: 1.36602391523179\n",
      "Episode: 217, Total reward: 1.380822660955023\n",
      "Episode: 218, Total reward: 1.3944657261981073\n",
      "Episode: 219, Total reward: 1.3789938117072138\n",
      "Episode: 220, Total reward: 1.4037750680127452\n",
      "Episode: 221, Total reward: 1.4098205993207464\n"
     ]
    },
    {
     "ename": "KeyboardInterrupt",
     "evalue": "",
     "output_type": "error",
     "traceback": [
      "\u001b[0;31m---------------------------------------------------------------------------\u001b[0m",
      "\u001b[0;31mKeyboardInterrupt\u001b[0m                         Traceback (most recent call last)",
      "\u001b[0;32m/usr/lib/python3.5/os.py\u001b[0m in \u001b[0;36m<module>\u001b[0;34m()\u001b[0m\n\u001b[1;32m      2\u001b[0m \u001b[0mportfolio\u001b[0m \u001b[0;34m=\u001b[0m \u001b[0;34m[\u001b[0m\u001b[0;34m]\u001b[0m\u001b[0;34m\u001b[0m\u001b[0m\n\u001b[1;32m      3\u001b[0m \u001b[0;32mfor\u001b[0m \u001b[0mi\u001b[0m \u001b[0;32min\u001b[0m \u001b[0mrange\u001b[0m\u001b[0;34m(\u001b[0m\u001b[0mNUM_EP\u001b[0m\u001b[0;34m)\u001b[0m\u001b[0;34m:\u001b[0m\u001b[0;34m\u001b[0m\u001b[0m\n\u001b[0;32m----> 4\u001b[0;31m     \u001b[0mstate\u001b[0m \u001b[0;34m=\u001b[0m \u001b[0menv_trading\u001b[0m\u001b[0;34m.\u001b[0m\u001b[0mreset\u001b[0m\u001b[0;34m(\u001b[0m\u001b[0mdate\u001b[0m\u001b[0;34m=\u001b[0m\u001b[0mdate\u001b[0m\u001b[0;34m)\u001b[0m\u001b[0;34m\u001b[0m\u001b[0m\n\u001b[0m\u001b[1;32m      5\u001b[0m     \u001b[0mstate\u001b[0m \u001b[0;34m=\u001b[0m \u001b[0mnp\u001b[0m\u001b[0;34m.\u001b[0m\u001b[0mreshape\u001b[0m\u001b[0;34m(\u001b[0m\u001b[0mstate\u001b[0m\u001b[0;34m,\u001b[0m\u001b[0;36m200\u001b[0m\u001b[0;34m)\u001b[0m\u001b[0;34m\u001b[0m\u001b[0m\n\u001b[1;32m      6\u001b[0m     \u001b[0mtotal_reward\u001b[0m \u001b[0;34m=\u001b[0m \u001b[0;36m0\u001b[0m\u001b[0;34m\u001b[0m\u001b[0m\n",
      "\u001b[0;32m~/Documentos/IA/ml-stock-prediction/trading_env/envs/trading_env.py\u001b[0m in \u001b[0;36mreset\u001b[0;34m(self, date)\u001b[0m\n\u001b[1;32m    136\u001b[0m             \u001b[0mself\u001b[0m\u001b[0;34m.\u001b[0m\u001b[0m_set_start_index\u001b[0m\u001b[0;34m(\u001b[0m\u001b[0;34m)\u001b[0m\u001b[0;34m\u001b[0m\u001b[0m\n\u001b[1;32m    137\u001b[0m         \u001b[0;32melse\u001b[0m\u001b[0;34m:\u001b[0m\u001b[0;34m\u001b[0m\u001b[0m\n\u001b[0;32m--> 138\u001b[0;31m             \u001b[0mtmp_index\u001b[0m \u001b[0;34m=\u001b[0m \u001b[0mnext\u001b[0m\u001b[0;34m(\u001b[0m\u001b[0;34m(\u001b[0m\u001b[0mi\u001b[0m \u001b[0;32mfor\u001b[0m \u001b[0mi\u001b[0m\u001b[0;34m,\u001b[0m \u001b[0mx\u001b[0m \u001b[0;32min\u001b[0m \u001b[0mself\u001b[0m\u001b[0;34m.\u001b[0m\u001b[0mhistorical_data\u001b[0m\u001b[0;34m.\u001b[0m\u001b[0miterrows\u001b[0m\u001b[0;34m(\u001b[0m\u001b[0;34m)\u001b[0m \u001b[0;32mif\u001b[0m \u001b[0;32mnot\u001b[0m \u001b[0mx\u001b[0m\u001b[0;34m[\u001b[0m\u001b[0;34m\"time\"\u001b[0m\u001b[0;34m]\u001b[0m \u001b[0;34m<\u001b[0m \u001b[0mdate\u001b[0m\u001b[0;34m)\u001b[0m\u001b[0;34m,\u001b[0m \u001b[0;32mNone\u001b[0m\u001b[0;34m)\u001b[0m\u001b[0;34m\u001b[0m\u001b[0m\n\u001b[0m\u001b[1;32m    139\u001b[0m             if (tmp_index is not None and \n\u001b[1;32m    140\u001b[0m                 \u001b[0;34m(\u001b[0m\u001b[0mtmp_index\u001b[0m \u001b[0;34m+\u001b[0m \u001b[0mself\u001b[0m\u001b[0;34m.\u001b[0m\u001b[0mepisode_steps\u001b[0m \u001b[0;34m<\u001b[0m \u001b[0mself\u001b[0m\u001b[0;34m.\u001b[0m\u001b[0mhistorical_data\u001b[0m\u001b[0;34m.\u001b[0m\u001b[0mshape\u001b[0m\u001b[0;34m[\u001b[0m\u001b[0;36m0\u001b[0m\u001b[0;34m]\u001b[0m\u001b[0;34m)\u001b[0m \u001b[0;32mand\u001b[0m\u001b[0;34m\u001b[0m\u001b[0m\n",
      "\u001b[0;32m~/Documentos/IA/ml-stock-prediction/trading_env/envs/trading_env.py\u001b[0m in \u001b[0;36m<genexpr>\u001b[0;34m(.0)\u001b[0m\n\u001b[1;32m    136\u001b[0m             \u001b[0mself\u001b[0m\u001b[0;34m.\u001b[0m\u001b[0m_set_start_index\u001b[0m\u001b[0;34m(\u001b[0m\u001b[0;34m)\u001b[0m\u001b[0;34m\u001b[0m\u001b[0m\n\u001b[1;32m    137\u001b[0m         \u001b[0;32melse\u001b[0m\u001b[0;34m:\u001b[0m\u001b[0;34m\u001b[0m\u001b[0m\n\u001b[0;32m--> 138\u001b[0;31m             \u001b[0mtmp_index\u001b[0m \u001b[0;34m=\u001b[0m \u001b[0mnext\u001b[0m\u001b[0;34m(\u001b[0m\u001b[0;34m(\u001b[0m\u001b[0mi\u001b[0m \u001b[0;32mfor\u001b[0m \u001b[0mi\u001b[0m\u001b[0;34m,\u001b[0m \u001b[0mx\u001b[0m \u001b[0;32min\u001b[0m \u001b[0mself\u001b[0m\u001b[0;34m.\u001b[0m\u001b[0mhistorical_data\u001b[0m\u001b[0;34m.\u001b[0m\u001b[0miterrows\u001b[0m\u001b[0;34m(\u001b[0m\u001b[0;34m)\u001b[0m \u001b[0;32mif\u001b[0m \u001b[0;32mnot\u001b[0m \u001b[0mx\u001b[0m\u001b[0;34m[\u001b[0m\u001b[0;34m\"time\"\u001b[0m\u001b[0;34m]\u001b[0m \u001b[0;34m<\u001b[0m \u001b[0mdate\u001b[0m\u001b[0;34m)\u001b[0m\u001b[0;34m,\u001b[0m \u001b[0;32mNone\u001b[0m\u001b[0;34m)\u001b[0m\u001b[0;34m\u001b[0m\u001b[0m\n\u001b[0m\u001b[1;32m    139\u001b[0m             if (tmp_index is not None and \n\u001b[1;32m    140\u001b[0m                 \u001b[0;34m(\u001b[0m\u001b[0mtmp_index\u001b[0m \u001b[0;34m+\u001b[0m \u001b[0mself\u001b[0m\u001b[0;34m.\u001b[0m\u001b[0mepisode_steps\u001b[0m \u001b[0;34m<\u001b[0m \u001b[0mself\u001b[0m\u001b[0;34m.\u001b[0m\u001b[0mhistorical_data\u001b[0m\u001b[0;34m.\u001b[0m\u001b[0mshape\u001b[0m\u001b[0;34m[\u001b[0m\u001b[0;36m0\u001b[0m\u001b[0;34m]\u001b[0m\u001b[0;34m)\u001b[0m \u001b[0;32mand\u001b[0m\u001b[0;34m\u001b[0m\u001b[0m\n",
      "\u001b[0;32m~/.local/lib/python3.5/site-packages/pandas/core/frame.py\u001b[0m in \u001b[0;36miterrows\u001b[0;34m(self)\u001b[0m\n\u001b[1;32m    745\u001b[0m         \u001b[0mcolumns\u001b[0m \u001b[0;34m=\u001b[0m \u001b[0mself\u001b[0m\u001b[0;34m.\u001b[0m\u001b[0mcolumns\u001b[0m\u001b[0;34m\u001b[0m\u001b[0m\n\u001b[1;32m    746\u001b[0m         \u001b[0mklass\u001b[0m \u001b[0;34m=\u001b[0m \u001b[0mself\u001b[0m\u001b[0;34m.\u001b[0m\u001b[0m_constructor_sliced\u001b[0m\u001b[0;34m\u001b[0m\u001b[0m\n\u001b[0;32m--> 747\u001b[0;31m         \u001b[0;32mfor\u001b[0m \u001b[0mk\u001b[0m\u001b[0;34m,\u001b[0m \u001b[0mv\u001b[0m \u001b[0;32min\u001b[0m \u001b[0mzip\u001b[0m\u001b[0;34m(\u001b[0m\u001b[0mself\u001b[0m\u001b[0;34m.\u001b[0m\u001b[0mindex\u001b[0m\u001b[0;34m,\u001b[0m \u001b[0mself\u001b[0m\u001b[0;34m.\u001b[0m\u001b[0mvalues\u001b[0m\u001b[0;34m)\u001b[0m\u001b[0;34m:\u001b[0m\u001b[0;34m\u001b[0m\u001b[0m\n\u001b[0m\u001b[1;32m    748\u001b[0m             \u001b[0ms\u001b[0m \u001b[0;34m=\u001b[0m \u001b[0mklass\u001b[0m\u001b[0;34m(\u001b[0m\u001b[0mv\u001b[0m\u001b[0;34m,\u001b[0m \u001b[0mindex\u001b[0m\u001b[0;34m=\u001b[0m\u001b[0mcolumns\u001b[0m\u001b[0;34m,\u001b[0m \u001b[0mname\u001b[0m\u001b[0;34m=\u001b[0m\u001b[0mk\u001b[0m\u001b[0;34m)\u001b[0m\u001b[0;34m\u001b[0m\u001b[0m\n\u001b[1;32m    749\u001b[0m             \u001b[0;32myield\u001b[0m \u001b[0mk\u001b[0m\u001b[0;34m,\u001b[0m \u001b[0ms\u001b[0m\u001b[0;34m\u001b[0m\u001b[0m\n",
      "\u001b[0;32m~/.local/lib/python3.5/site-packages/pandas/core/generic.py\u001b[0m in \u001b[0;36mvalues\u001b[0;34m(self)\u001b[0m\n\u001b[1;32m   3809\u001b[0m         \u001b[0mwill\u001b[0m \u001b[0mresult\u001b[0m \u001b[0;32min\u001b[0m \u001b[0ma\u001b[0m \u001b[0mflot64\u001b[0m \u001b[0mdtype\u001b[0m\u001b[0;34m.\u001b[0m\u001b[0;34m\u001b[0m\u001b[0m\n\u001b[1;32m   3810\u001b[0m         \"\"\"\n\u001b[0;32m-> 3811\u001b[0;31m         \u001b[0;32mreturn\u001b[0m \u001b[0mself\u001b[0m\u001b[0;34m.\u001b[0m\u001b[0mas_matrix\u001b[0m\u001b[0;34m(\u001b[0m\u001b[0;34m)\u001b[0m\u001b[0;34m\u001b[0m\u001b[0m\n\u001b[0m\u001b[1;32m   3812\u001b[0m \u001b[0;34m\u001b[0m\u001b[0m\n\u001b[1;32m   3813\u001b[0m     \u001b[0;34m@\u001b[0m\u001b[0mproperty\u001b[0m\u001b[0;34m\u001b[0m\u001b[0m\n",
      "\u001b[0;32m~/.local/lib/python3.5/site-packages/pandas/core/generic.py\u001b[0m in \u001b[0;36mas_matrix\u001b[0;34m(self, columns)\u001b[0m\n\u001b[1;32m   3790\u001b[0m         \u001b[0mself\u001b[0m\u001b[0;34m.\u001b[0m\u001b[0m_consolidate_inplace\u001b[0m\u001b[0;34m(\u001b[0m\u001b[0;34m)\u001b[0m\u001b[0;34m\u001b[0m\u001b[0m\n\u001b[1;32m   3791\u001b[0m         \u001b[0;32mif\u001b[0m \u001b[0mself\u001b[0m\u001b[0;34m.\u001b[0m\u001b[0m_AXIS_REVERSED\u001b[0m\u001b[0;34m:\u001b[0m\u001b[0;34m\u001b[0m\u001b[0m\n\u001b[0;32m-> 3792\u001b[0;31m             \u001b[0;32mreturn\u001b[0m \u001b[0mself\u001b[0m\u001b[0;34m.\u001b[0m\u001b[0m_data\u001b[0m\u001b[0;34m.\u001b[0m\u001b[0mas_matrix\u001b[0m\u001b[0;34m(\u001b[0m\u001b[0mcolumns\u001b[0m\u001b[0;34m)\u001b[0m\u001b[0;34m.\u001b[0m\u001b[0mT\u001b[0m\u001b[0;34m\u001b[0m\u001b[0m\n\u001b[0m\u001b[1;32m   3793\u001b[0m         \u001b[0;32mreturn\u001b[0m \u001b[0mself\u001b[0m\u001b[0;34m.\u001b[0m\u001b[0m_data\u001b[0m\u001b[0;34m.\u001b[0m\u001b[0mas_matrix\u001b[0m\u001b[0;34m(\u001b[0m\u001b[0mcolumns\u001b[0m\u001b[0;34m)\u001b[0m\u001b[0;34m\u001b[0m\u001b[0m\n\u001b[1;32m   3794\u001b[0m \u001b[0;34m\u001b[0m\u001b[0m\n",
      "\u001b[0;32m~/.local/lib/python3.5/site-packages/pandas/core/internals.py\u001b[0m in \u001b[0;36mas_matrix\u001b[0;34m(self, items)\u001b[0m\n\u001b[1;32m   3671\u001b[0m             \u001b[0;32mreturn\u001b[0m \u001b[0mmgr\u001b[0m\u001b[0;34m.\u001b[0m\u001b[0mblocks\u001b[0m\u001b[0;34m[\u001b[0m\u001b[0;36m0\u001b[0m\u001b[0;34m]\u001b[0m\u001b[0;34m.\u001b[0m\u001b[0mget_values\u001b[0m\u001b[0;34m(\u001b[0m\u001b[0;34m)\u001b[0m\u001b[0;34m\u001b[0m\u001b[0m\n\u001b[1;32m   3672\u001b[0m         \u001b[0;32melse\u001b[0m\u001b[0;34m:\u001b[0m\u001b[0;34m\u001b[0m\u001b[0m\n\u001b[0;32m-> 3673\u001b[0;31m             \u001b[0;32mreturn\u001b[0m \u001b[0mmgr\u001b[0m\u001b[0;34m.\u001b[0m\u001b[0m_interleave\u001b[0m\u001b[0;34m(\u001b[0m\u001b[0;34m)\u001b[0m\u001b[0;34m\u001b[0m\u001b[0m\n\u001b[0m\u001b[1;32m   3674\u001b[0m \u001b[0;34m\u001b[0m\u001b[0m\n\u001b[1;32m   3675\u001b[0m     \u001b[0;32mdef\u001b[0m \u001b[0m_interleave\u001b[0m\u001b[0;34m(\u001b[0m\u001b[0mself\u001b[0m\u001b[0;34m)\u001b[0m\u001b[0;34m:\u001b[0m\u001b[0;34m\u001b[0m\u001b[0m\n",
      "\u001b[0;32m~/.local/lib/python3.5/site-packages/pandas/core/internals.py\u001b[0m in \u001b[0;36m_interleave\u001b[0;34m(self)\u001b[0m\n\u001b[1;32m   3698\u001b[0m         \u001b[0;32mfor\u001b[0m \u001b[0mblk\u001b[0m \u001b[0;32min\u001b[0m \u001b[0mself\u001b[0m\u001b[0;34m.\u001b[0m\u001b[0mblocks\u001b[0m\u001b[0;34m:\u001b[0m\u001b[0;34m\u001b[0m\u001b[0m\n\u001b[1;32m   3699\u001b[0m             \u001b[0mrl\u001b[0m \u001b[0;34m=\u001b[0m \u001b[0mblk\u001b[0m\u001b[0;34m.\u001b[0m\u001b[0mmgr_locs\u001b[0m\u001b[0;34m\u001b[0m\u001b[0m\n\u001b[0;32m-> 3700\u001b[0;31m             \u001b[0mresult\u001b[0m\u001b[0;34m[\u001b[0m\u001b[0mrl\u001b[0m\u001b[0;34m.\u001b[0m\u001b[0mindexer\u001b[0m\u001b[0;34m]\u001b[0m \u001b[0;34m=\u001b[0m \u001b[0mblk\u001b[0m\u001b[0;34m.\u001b[0m\u001b[0mget_values\u001b[0m\u001b[0;34m(\u001b[0m\u001b[0mdtype\u001b[0m\u001b[0;34m)\u001b[0m\u001b[0;34m\u001b[0m\u001b[0m\n\u001b[0m\u001b[1;32m   3701\u001b[0m             \u001b[0mitemmask\u001b[0m\u001b[0;34m[\u001b[0m\u001b[0mrl\u001b[0m\u001b[0;34m.\u001b[0m\u001b[0mindexer\u001b[0m\u001b[0;34m]\u001b[0m \u001b[0;34m=\u001b[0m \u001b[0;36m1\u001b[0m\u001b[0;34m\u001b[0m\u001b[0m\n\u001b[1;32m   3702\u001b[0m \u001b[0;34m\u001b[0m\u001b[0m\n",
      "\u001b[0;32m~/.local/lib/python3.5/site-packages/pandas/core/internals.py\u001b[0m in \u001b[0;36mget_values\u001b[0;34m(self, dtype)\u001b[0m\n\u001b[1;32m   1929\u001b[0m         \u001b[0;32mif\u001b[0m \u001b[0mis_object_dtype\u001b[0m\u001b[0;34m(\u001b[0m\u001b[0mdtype\u001b[0m\u001b[0;34m)\u001b[0m\u001b[0;34m:\u001b[0m\u001b[0;34m\u001b[0m\u001b[0m\n\u001b[1;32m   1930\u001b[0m             return lib.map_infer(self.values.ravel(),\n\u001b[0;32m-> 1931\u001b[0;31m                                  self._box_func).reshape(self.values.shape)\n\u001b[0m\u001b[1;32m   1932\u001b[0m         \u001b[0;32mreturn\u001b[0m \u001b[0mself\u001b[0m\u001b[0;34m.\u001b[0m\u001b[0mvalues\u001b[0m\u001b[0;34m\u001b[0m\u001b[0m\n\u001b[1;32m   1933\u001b[0m \u001b[0;34m\u001b[0m\u001b[0m\n",
      "\u001b[0;31mKeyboardInterrupt\u001b[0m: "
     ]
    }
   ],
   "source": [
    "rewards_plot = []\n",
    "portfolio = []\n",
    "for i in range(NUM_EP):\n",
    "    state = env_trading.reset(date=date)\n",
    "    state = np.reshape(state,200)\n",
    "    total_reward = 0\n",
    "    \n",
    "    while(True):\n",
    "        action = agent.act([state])\n",
    "        state, reward, done, _ = env_trading.step(action)\n",
    "        state = np.reshape(state,200)\n",
    "        agent.store_step(action, state, reward)\n",
    "        total_reward += reward\n",
    "        if done:\n",
    "            rewards_plot.append(total_reward)\n",
    "            portfolio.append(env_trading.portfolio_value)\n",
    "            print(\"Episode: {}, Total reward: {}\".format(i,total_reward))\n",
    "            break\n",
    "    agent.train()\n"
   ]
  },
  {
   "cell_type": "code",
   "execution_count": 8,
   "metadata": {},
   "outputs": [
    {
     "data": {
      "image/png": "[encoded data removed]",
      "text/plain": [
       "<matplotlib.figure.Figure at 0x7f938a4a6208>"
      ]
     },
     "metadata": {},
     "output_type": "display_data"
    }
   ],
   "source": [
    "plt.plot(rewards_plot, label = \"Trained agent\")\n",
    "plt.plot(holder_reward, label = \"Holder\")\n",
    "plt.plot(random_reward, label = \"Random\")\n",
    "plt.plot(out_reward, label = \"All out\")\n",
    "plt.legend()\n",
    "plt.show()"
   ]
  },
  {
   "cell_type": "code",
   "execution_count": null,
   "metadata": {},
   "outputs": [],
   "source": []
  }
 ],
 "metadata": {
  "kernelspec": {
   "display_name": "Python 3",
   "language": "python",
   "name": "python3"
  },
  "language_info": {
   "codemirror_mode": {
    "name": "ipython",
    "version": 3
   },
   "file_extension": ".py",
   "mimetype": "text/x-python",
   "name": "python",
   "nbconvert_exporter": "python",
   "pygments_lexer": "ipython3",
   "version": "3.5.2"
  }
 },
 "nbformat": 4,
 "nbformat_minor": 2
}
