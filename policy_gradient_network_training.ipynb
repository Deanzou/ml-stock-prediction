{
 "cells": [
  {
   "cell_type": "code",
   "execution_count": 1,
   "metadata": {},
   "outputs": [],
   "source": [
    "import pandas as pd\n",
    "import numpy as np\n",
    "import matplotlib.pyplot as plt\n",
    "import tensorflow as tf\n",
    "\n",
    "import datetime\n",
    "\n",
    "import gym\n",
    "import trading_env\n",
    "\n",
    "import os\n",
    "import agent \n",
    "from os import __file__"
   ]
  },
  {
   "cell_type": "code",
   "execution_count": 2,
   "metadata": {},
   "outputs": [
    {
     "name": "stdout",
     "output_type": "stream",
     "text": [
      "Loading historical data file\n"
     ]
    }
   ],
   "source": [
    "env_trading = gym.make('test_trading-v0')\n",
    "NUM_EP = 100\n",
    "date = datetime.datetime(2017, 5, 1, 0, 0)"
   ]
  },
  {
   "cell_type": "markdown",
   "metadata": {},
   "source": [
    "## The Goal\n",
    "Have a better cumulated reward and final portfolio value than the three following agents:\n",
    "- The \"holder\" (action = 1)\n",
    "- The \"All out\" (action = -1)\n",
    "- The \"I have no idea what I am doing\" (random action)\n",
    "\n",
    "These can be found at the end of this notebook"
   ]
  },
  {
   "cell_type": "markdown",
   "metadata": {},
   "source": [
    "# The Agent"
   ]
  },
  {
   "cell_type": "code",
   "execution_count": 3,
   "metadata": {},
   "outputs": [],
   "source": [
    "agent = agent.StochasticPolicyGradientAgent(env_trading, learning_rate = 1e-4)"
   ]
  },
  {
   "cell_type": "code",
   "execution_count": 4,
   "metadata": {},
   "outputs": [
    {
     "name": "stdout",
     "output_type": "stream",
     "text": [
      "Episode: 0, Total reward: 1.2404275233606699\n",
      "Episode: 1, Total reward: 1.1905571614288182\n",
      "Episode: 2, Total reward: 1.227087876386796\n",
      "Episode: 3, Total reward: 1.1462696036505013\n",
      "Episode: 4, Total reward: 1.1290740868684328\n",
      "Episode: 5, Total reward: 1.1855799168667187\n",
      "Episode: 6, Total reward: 1.25025437240725\n",
      "Episode: 7, Total reward: 1.1699492737544774\n",
      "Episode: 8, Total reward: 1.2694905672223284\n",
      "Episode: 9, Total reward: 1.2700650705430883\n",
      "Episode: 10, Total reward: 1.0147227377953456\n",
      "Episode: 11, Total reward: 1.1657041339287106\n",
      "Episode: 12, Total reward: 1.1503248842648155\n",
      "Episode: 13, Total reward: 1.2402168818094885\n",
      "Episode: 14, Total reward: 1.3097495024556944\n",
      "Episode: 15, Total reward: 1.1707127961725015\n",
      "Episode: 16, Total reward: 1.168716647998757\n",
      "Episode: 17, Total reward: 1.1523495100709555\n",
      "Episode: 18, Total reward: 1.2132185317151523\n",
      "Episode: 19, Total reward: 1.272773250657936\n",
      "Episode: 20, Total reward: 1.241437541999163\n",
      "Episode: 21, Total reward: 1.2096538350714952\n",
      "Episode: 22, Total reward: 1.1626056368784883\n",
      "Episode: 23, Total reward: 1.1743285482051684\n",
      "Episode: 24, Total reward: 1.0854272335501916\n",
      "Episode: 25, Total reward: 1.2763903570526822\n",
      "Episode: 26, Total reward: 1.1800939951620106\n",
      "Episode: 27, Total reward: 1.1817576166131072\n",
      "Episode: 28, Total reward: 1.2380602358495008\n",
      "Episode: 29, Total reward: 1.2146308912337176\n",
      "Episode: 30, Total reward: 1.2742569775444812\n",
      "Episode: 31, Total reward: 1.3095178833201573\n",
      "Episode: 32, Total reward: 1.1790811330352091\n",
      "Episode: 33, Total reward: 1.1217090117860868\n",
      "Episode: 34, Total reward: 1.231302297769301\n",
      "Episode: 35, Total reward: 1.1885074971371128\n",
      "Episode: 36, Total reward: 1.236458785173039\n",
      "Episode: 37, Total reward: 1.2652899237093795\n",
      "Episode: 38, Total reward: 1.2568995032104346\n",
      "Episode: 39, Total reward: 1.1532311342911472\n",
      "Episode: 40, Total reward: 1.2433799173436473\n",
      "Episode: 41, Total reward: 1.2269299251465042\n",
      "Episode: 42, Total reward: 1.206410280016033\n",
      "Episode: 43, Total reward: 1.1956724632670677\n",
      "Episode: 44, Total reward: 1.178561072692886\n",
      "Episode: 45, Total reward: 1.2196433963947075\n",
      "Episode: 46, Total reward: 1.137760130147617\n",
      "Episode: 47, Total reward: 1.2338000921581709\n",
      "Episode: 48, Total reward: 1.1963487604044158\n",
      "Episode: 49, Total reward: 1.1505905207795577\n",
      "Episode: 50, Total reward: 1.1909949926740517\n",
      "Episode: 51, Total reward: 0.9870957491314821\n",
      "Episode: 52, Total reward: 1.169485362942237\n",
      "Episode: 53, Total reward: 1.1783985986398497\n",
      "Episode: 54, Total reward: 1.2242280665720588\n",
      "Episode: 55, Total reward: 1.05900628852153\n",
      "Episode: 56, Total reward: 1.1791292426682216\n",
      "Episode: 57, Total reward: 1.216509663848948\n",
      "Episode: 58, Total reward: 1.019714319944059\n",
      "Episode: 59, Total reward: 1.1998577974251288\n",
      "Episode: 60, Total reward: 1.3923333148123658\n",
      "Episode: 61, Total reward: 1.2203817561154109\n",
      "Episode: 62, Total reward: 1.1899562752634043\n",
      "Episode: 63, Total reward: 1.3099125406392729\n",
      "Episode: 64, Total reward: 1.1661923942804424\n",
      "Episode: 65, Total reward: 1.2259852539327927\n",
      "Episode: 66, Total reward: 1.0812993101427755\n",
      "Episode: 67, Total reward: 1.0776982880722918\n",
      "Episode: 68, Total reward: 1.0938207560680677\n",
      "Episode: 69, Total reward: 1.1176389149815622\n",
      "Episode: 70, Total reward: 1.130646789325802\n",
      "Episode: 71, Total reward: 1.1452464155985411\n",
      "Episode: 72, Total reward: 1.0336130457258648\n",
      "Episode: 73, Total reward: 1.1063493127778097\n",
      "Episode: 74, Total reward: 1.1625912052397132\n",
      "Episode: 75, Total reward: 1.33039644398544\n",
      "Episode: 76, Total reward: 0.986097085451438\n",
      "Episode: 77, Total reward: 1.1510389542166979\n",
      "Episode: 78, Total reward: 1.3111809550273783\n",
      "Episode: 79, Total reward: 1.0839108378821658\n",
      "Episode: 80, Total reward: 1.261421261293234\n",
      "Episode: 81, Total reward: 1.290857760827363\n",
      "Episode: 82, Total reward: 1.1572232099645616\n",
      "Episode: 83, Total reward: 1.2799080223899792\n",
      "Episode: 84, Total reward: 1.117450660561626\n",
      "Episode: 85, Total reward: 1.223366829786669\n",
      "Episode: 86, Total reward: 1.0698634308311032\n",
      "Episode: 87, Total reward: 1.259840529399294\n",
      "Episode: 88, Total reward: 1.211641822668929\n",
      "Episode: 89, Total reward: 1.2854070184842992\n",
      "Episode: 90, Total reward: 1.1431608620323426\n",
      "Episode: 91, Total reward: 1.1366070428403574\n",
      "Episode: 92, Total reward: 1.2344527963311511\n",
      "Episode: 93, Total reward: 1.1832298871196438\n",
      "Episode: 94, Total reward: 1.170275128377637\n",
      "Episode: 95, Total reward: 1.2666358308231858\n",
      "Episode: 96, Total reward: 1.095414084250957\n",
      "Episode: 97, Total reward: 1.2076374143693769\n",
      "Episode: 98, Total reward: 1.1551094330016178\n",
      "Episode: 99, Total reward: 1.1824899793600914\n"
     ]
    }
   ],
   "source": [
    "rewards_plot = []\n",
    "portfolio = []\n",
    "for i in range(NUM_EP):\n",
    "    state = env_trading.reset(date=date)\n",
    "    state = np.reshape(state,200)\n",
    "    total_reward = 0\n",
    "    \n",
    "    while(True):\n",
    "        action = agent.act([state])\n",
    "        state, reward, done, _ = env_trading.step(action)\n",
    "        state = np.reshape(state,200)\n",
    "        agent.store_step(action, state, reward)\n",
    "        total_reward += reward\n",
    "        if done:\n",
    "            rewards_plot.append(total_reward)\n",
    "            portfolio.append(env_trading.portfolio_value)\n",
    "            print(\"Episode: {}, Total reward: {}\".format(i,total_reward))\n",
    "            break\n",
    "    agent.train()\n"
   ]
  },
  {
   "cell_type": "code",
   "execution_count": 5,
   "metadata": {},
   "outputs": [
    {
     "data": {
      "image/png": "[encoded data removed]",
      "text/plain": [
       "<matplotlib.figure.Figure at 0x7f36577cdf60>"
      ]
     },
     "metadata": {},
     "output_type": "display_data"
    }
   ],
   "source": [
    "plt.plot(rewards_plot)\n",
    "plt.show()"
   ]
  },
  {
   "cell_type": "markdown",
   "metadata": {},
   "source": [
    "# Holder"
   ]
  },
  {
   "cell_type": "code",
   "execution_count": null,
   "metadata": {},
   "outputs": [],
   "source": [
    "rewards_plot = []\n",
    "portfolio = []\n",
    "for i in range(NUM_EP):\n",
    "    state = env_trading.reset(date=date)\n",
    "    state = np.reshape(state,200)\n",
    "    total_reward = 0\n",
    "    \n",
    "    while(True):\n",
    "        action = 1.0 #Holder agent\n",
    "        state, reward, done, _ = env_trading.step(action)\n",
    "        state = np.reshape(state,200)\n",
    "        total_reward += reward\n",
    "        if done:\n",
    "            rewards_plot.append(total_reward)\n",
    "            portfolio.append(env_trading.portfolio_value)\n",
    "            print(\"Episode: {}, Total reward: {}\".format(i,total_reward))\n",
    "            break\n",
    "plt.plot(rewards_plot)\n",
    "plt.show()\n",
    "\n"
   ]
  },
  {
   "cell_type": "markdown",
   "metadata": {},
   "source": [
    "# Random"
   ]
  },
  {
   "cell_type": "code",
   "execution_count": 5,
   "metadata": {},
   "outputs": [
    {
     "name": "stdout",
     "output_type": "stream",
     "text": [
      "Episode: 0, Total reward: [ 0.62008023]\n",
      "Episode: 1, Total reward: [ 0.49847746]\n",
      "Episode: 2, Total reward: [ 0.56291807]\n",
      "Episode: 3, Total reward: [ 0.74062562]\n",
      "Episode: 4, Total reward: [ 0.32204434]\n",
      "Episode: 5, Total reward: [ 0.93102187]\n",
      "Episode: 6, Total reward: [ 0.94741434]\n",
      "Episode: 7, Total reward: [ 0.92231148]\n",
      "Episode: 8, Total reward: [ 0.87327564]\n",
      "Episode: 9, Total reward: [ 0.86952233]\n",
      "Episode: 10, Total reward: [ 0.58622599]\n",
      "Episode: 11, Total reward: [ 0.57257766]\n",
      "Episode: 12, Total reward: [ 0.46953037]\n",
      "Episode: 13, Total reward: [ 0.71862]\n",
      "Episode: 14, Total reward: [ 0.4223353]\n",
      "Episode: 15, Total reward: [ 0.46464601]\n",
      "Episode: 16, Total reward: [ 0.92783493]\n",
      "Episode: 17, Total reward: [ 0.71605098]\n",
      "Episode: 18, Total reward: [ 0.77137607]\n"
     ]
    },
    {
     "ename": "KeyboardInterrupt",
     "evalue": "",
     "output_type": "error",
     "traceback": [
      "\u001b[0;31m---------------------------------------------------------------------------\u001b[0m",
      "\u001b[0;31mKeyboardInterrupt\u001b[0m                         Traceback (most recent call last)",
      "\u001b[0;32m/usr/lib/python3.5/os.py\u001b[0m in \u001b[0;36m<module>\u001b[0;34m()\u001b[0m\n\u001b[1;32m      9\u001b[0m         \u001b[0maction\u001b[0m \u001b[0;34m=\u001b[0m \u001b[0menv_trading\u001b[0m\u001b[0;34m.\u001b[0m\u001b[0maction_space\u001b[0m\u001b[0;34m.\u001b[0m\u001b[0msample\u001b[0m\u001b[0;34m(\u001b[0m\u001b[0;34m)\u001b[0m\u001b[0;34m\u001b[0m\u001b[0m\n\u001b[1;32m     10\u001b[0m         \u001b[0mstate\u001b[0m\u001b[0;34m,\u001b[0m \u001b[0mreward\u001b[0m\u001b[0;34m,\u001b[0m \u001b[0mdone\u001b[0m\u001b[0;34m,\u001b[0m \u001b[0m_\u001b[0m \u001b[0;34m=\u001b[0m \u001b[0menv_trading\u001b[0m\u001b[0;34m.\u001b[0m\u001b[0mstep\u001b[0m\u001b[0;34m(\u001b[0m\u001b[0maction\u001b[0m\u001b[0;34m)\u001b[0m\u001b[0;34m\u001b[0m\u001b[0m\n\u001b[0;32m---> 11\u001b[0;31m         \u001b[0mstate\u001b[0m \u001b[0;34m=\u001b[0m \u001b[0mnp\u001b[0m\u001b[0;34m.\u001b[0m\u001b[0mreshape\u001b[0m\u001b[0;34m(\u001b[0m\u001b[0mstate\u001b[0m\u001b[0;34m,\u001b[0m\u001b[0;36m200\u001b[0m\u001b[0;34m)\u001b[0m\u001b[0;34m\u001b[0m\u001b[0m\n\u001b[0m\u001b[1;32m     12\u001b[0m         \u001b[0mtotal_reward\u001b[0m \u001b[0;34m+=\u001b[0m \u001b[0mreward\u001b[0m\u001b[0;34m\u001b[0m\u001b[0m\n\u001b[1;32m     13\u001b[0m         \u001b[0;32mif\u001b[0m \u001b[0mdone\u001b[0m\u001b[0;34m:\u001b[0m\u001b[0;34m\u001b[0m\u001b[0m\n",
      "\u001b[0;32m~/.local/lib/python3.5/site-packages/numpy/core/fromnumeric.py\u001b[0m in \u001b[0;36mreshape\u001b[0;34m(a, newshape, order)\u001b[0m\n\u001b[1;32m    230\u001b[0m            [5, 6]])\n\u001b[1;32m    231\u001b[0m     \"\"\"\n\u001b[0;32m--> 232\u001b[0;31m     \u001b[0;32mreturn\u001b[0m \u001b[0m_wrapfunc\u001b[0m\u001b[0;34m(\u001b[0m\u001b[0ma\u001b[0m\u001b[0;34m,\u001b[0m \u001b[0;34m'reshape'\u001b[0m\u001b[0;34m,\u001b[0m \u001b[0mnewshape\u001b[0m\u001b[0;34m,\u001b[0m \u001b[0morder\u001b[0m\u001b[0;34m=\u001b[0m\u001b[0morder\u001b[0m\u001b[0;34m)\u001b[0m\u001b[0;34m\u001b[0m\u001b[0m\n\u001b[0m\u001b[1;32m    233\u001b[0m \u001b[0;34m\u001b[0m\u001b[0m\n\u001b[1;32m    234\u001b[0m \u001b[0;34m\u001b[0m\u001b[0m\n",
      "\u001b[0;32m~/.local/lib/python3.5/site-packages/numpy/core/fromnumeric.py\u001b[0m in \u001b[0;36m_wrapfunc\u001b[0;34m(obj, method, *args, **kwds)\u001b[0m\n\u001b[1;32m     55\u001b[0m \u001b[0;32mdef\u001b[0m \u001b[0m_wrapfunc\u001b[0m\u001b[0;34m(\u001b[0m\u001b[0mobj\u001b[0m\u001b[0;34m,\u001b[0m \u001b[0mmethod\u001b[0m\u001b[0;34m,\u001b[0m \u001b[0;34m*\u001b[0m\u001b[0margs\u001b[0m\u001b[0;34m,\u001b[0m \u001b[0;34m**\u001b[0m\u001b[0mkwds\u001b[0m\u001b[0;34m)\u001b[0m\u001b[0;34m:\u001b[0m\u001b[0;34m\u001b[0m\u001b[0m\n\u001b[1;32m     56\u001b[0m     \u001b[0;32mtry\u001b[0m\u001b[0;34m:\u001b[0m\u001b[0;34m\u001b[0m\u001b[0m\n\u001b[0;32m---> 57\u001b[0;31m         \u001b[0;32mreturn\u001b[0m \u001b[0mgetattr\u001b[0m\u001b[0;34m(\u001b[0m\u001b[0mobj\u001b[0m\u001b[0;34m,\u001b[0m \u001b[0mmethod\u001b[0m\u001b[0;34m)\u001b[0m\u001b[0;34m(\u001b[0m\u001b[0;34m*\u001b[0m\u001b[0margs\u001b[0m\u001b[0;34m,\u001b[0m \u001b[0;34m**\u001b[0m\u001b[0mkwds\u001b[0m\u001b[0;34m)\u001b[0m\u001b[0;34m\u001b[0m\u001b[0m\n\u001b[0m\u001b[1;32m     58\u001b[0m \u001b[0;34m\u001b[0m\u001b[0m\n\u001b[1;32m     59\u001b[0m     \u001b[0;31m# An AttributeError occurs if the object does not have\u001b[0m\u001b[0;34m\u001b[0m\u001b[0;34m\u001b[0m\u001b[0m\n",
      "\u001b[0;31mKeyboardInterrupt\u001b[0m: "
     ]
    }
   ],
   "source": [
    "rewards_plot = []\n",
    "portfolio = []\n",
    "for i in range(NUM_EP):\n",
    "    state = env_trading.reset(date=date)\n",
    "    state = np.reshape(state,200)\n",
    "    total_reward = 0\n",
    "    \n",
    "    while(True):\n",
    "        action = env_trading.action_space.sample()\n",
    "        state, reward, done, _ = env_trading.step(action)\n",
    "        state = np.reshape(state,200)\n",
    "        total_reward += reward\n",
    "        if done:\n",
    "            rewards_plot.append(total_reward)\n",
    "            portfolio.append(env_trading.portfolio_value)\n",
    "            print(\"Episode: {}, Total reward: {}\".format(i,total_reward))\n",
    "            break\n",
    "plt.plot(rewards_plot)\n",
    "plt.show()\n"
   ]
  },
  {
   "cell_type": "markdown",
   "metadata": {},
   "source": [
    "# All out"
   ]
  },
  {
   "cell_type": "code",
   "execution_count": null,
   "metadata": {},
   "outputs": [],
   "source": [
    "rewards_plot = []\n",
    "portfolio = []\n",
    "for i in range(NUM_EP):\n",
    "    state = env_trading.reset(date=date)\n",
    "    state = np.reshape(state,200)\n",
    "    total_reward = 0\n",
    "    \n",
    "    while(True):\n",
    "        action = -1.0\n",
    "        state, reward, done, _ = env_trading.step(action)\n",
    "        state = np.reshape(state,200)\n",
    "        total_reward += reward\n",
    "        if done:\n",
    "            rewards_plot.append(total_reward)\n",
    "            portfolio.append(env_trading.portfolio_value)\n",
    "            print(\"Episode: {}, Total reward: {}\".format(i,total_reward))\n",
    "            break\n",
    "plt.plot(rewards_plot)\n",
    "plt.show()"
   ]
  }
 ],
 "metadata": {
  "kernelspec": {
   "display_name": "Python 3",
   "language": "python",
   "name": "python3"
  },
  "language_info": {
   "codemirror_mode": {
    "name": "ipython",
    "version": 3
   },
   "file_extension": ".py",
   "mimetype": "text/x-python",
   "name": "python",
   "nbconvert_exporter": "python",
   "pygments_lexer": "ipython3",
   "version": "3.5.2"
  }
 },
 "nbformat": 4,
 "nbformat_minor": 2
}
